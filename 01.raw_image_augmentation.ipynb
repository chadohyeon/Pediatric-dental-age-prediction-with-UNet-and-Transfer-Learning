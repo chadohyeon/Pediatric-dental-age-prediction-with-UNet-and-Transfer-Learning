{
 "cells": [
  {
   "cell_type": "code",
   "execution_count": 1,
   "id": "1b399522-a432-46db-b8e8-4fe9b7fe7ccf",
   "metadata": {},
   "outputs": [
    {
     "name": "stderr",
     "output_type": "stream",
     "text": [
      "2023-11-15 11:07:46.521573: I tensorflow/core/platform/cpu_feature_guard.cc:182] This TensorFlow binary is optimized to use available CPU instructions in performance-critical operations.\n",
      "To enable the following instructions: AVX2 FMA, in other operations, rebuild TensorFlow with the appropriate compiler flags.\n",
      "2023-11-15 11:07:47.176333: W tensorflow/compiler/tf2tensorrt/utils/py_utils.cc:38] TF-TRT Warning: Could not find TensorRT\n"
     ]
    },
    {
     "name": "stdout",
     "output_type": "stream",
     "text": [
      "Loaded all modules\n"
     ]
    },
    {
     "name": "stderr",
     "output_type": "stream",
     "text": [
      "2023-11-15 11:07:48.616195: I tensorflow/compiler/xla/stream_executor/cuda/cuda_gpu_executor.cc:995] successful NUMA node read from SysFS had negative value (-1), but there must be at least one NUMA node, so returning NUMA node zero. See more at https://github.com/torvalds/linux/blob/v6.0/Documentation/ABI/testing/sysfs-bus-pci#L344-L355\n",
      "2023-11-15 11:07:48.640405: I tensorflow/compiler/xla/stream_executor/cuda/cuda_gpu_executor.cc:995] successful NUMA node read from SysFS had negative value (-1), but there must be at least one NUMA node, so returning NUMA node zero. See more at https://github.com/torvalds/linux/blob/v6.0/Documentation/ABI/testing/sysfs-bus-pci#L344-L355\n",
      "2023-11-15 11:07:48.642449: I tensorflow/compiler/xla/stream_executor/cuda/cuda_gpu_executor.cc:995] successful NUMA node read from SysFS had negative value (-1), but there must be at least one NUMA node, so returning NUMA node zero. See more at https://github.com/torvalds/linux/blob/v6.0/Documentation/ABI/testing/sysfs-bus-pci#L344-L355\n"
     ]
    }
   ],
   "source": [
    "### Loading required modules\n",
    "\n",
    "import numpy as np\n",
    "import tensorflow as tf\n",
    "import os,sys\n",
    "import datetime\n",
    "import pickle\n",
    "from tensorflow.keras.preprocessing.image import ImageDataGenerator\n",
    "from tensorflow.keras.preprocessing.image import load_img, img_to_array, array_to_img, save_img\n",
    "from tensorflow.keras.models import Sequential\n",
    "from tensorflow.keras.layers import Dropout, Activation, Dense\n",
    "from tensorflow.keras.layers import Flatten, Conv2D, MaxPooling2D, BatchNormalization\n",
    "from tensorflow.keras.models import load_model\n",
    "from tensorflow.keras.optimizers import Adam\n",
    "import cv2\n",
    "from matplotlib import pyplot as plt\n",
    "from sklearn.metrics import mean_absolute_error, mean_absolute_percentage_error, mean_squared_error, r2_score\n",
    "\n",
    "tf.config.list_physical_devices('GPU')\n",
    "\n",
    "path=\"/home/ubuntu/pediatric_dental_age_prediction/raw/\"\n",
    "\n",
    "print(\"Loaded all modules\")"
   ]
  },
  {
   "cell_type": "code",
   "execution_count": 3,
   "id": "1d6e9011-eb9f-46c5-9fb1-fa28d9115708",
   "metadata": {},
   "outputs": [
    {
     "name": "stdout",
     "output_type": "stream",
     "text": [
      "Original files: /home/ubuntu/project/raw_test/train\n",
      "Saving to ... : /home/ubuntu/project/raw_test/train_aug\n",
      "Data augmentation done for train set with 30 per each image\n"
     ]
    }
   ],
   "source": [
    "### Data augmentation of raw panoramic images \n",
    "### By rotating, shifting, zooming, flipping, brightness-adjusting\n",
    "\n",
    "\n",
    "def rawImgAugment(mode, numAugPerImg):\n",
    "    datagen = ImageDataGenerator(\n",
    "        rotation_range=5,\n",
    "        width_shift_range=0.1,\n",
    "        height_shift_range=0.05,\n",
    "        zoom_range=0.15,\n",
    "        horizontal_flip=True,\n",
    "        brightness_range=[0.7,1.1],\n",
    "        fill_mode='nearest'\n",
    "        )\n",
    "    \n",
    "    \n",
    "    print(\"Original files: {0}\".format(path+mode))\n",
    "    print(\"Saving to ... : {0}\".format(path+mode+\"_aug\"))\n",
    "    \n",
    "    for name_img in os.listdir(path+mode):\n",
    "        img = cv2.imread(path+mode+\"/{0}\".format(name_img))  # cv2 img\n",
    "        res = cv2.resize(img, dsize=(512, 256)) ### Resizing to \n",
    "        \n",
    "        res_array = img_to_array(res)\n",
    "        res_array = res_array.reshape((1,) + res_array.shape)\n",
    "    \n",
    "        i = 0\n",
    "    \n",
    "        for batch in datagen.flow(res_array, batch_size=1,shuffle=True,\n",
    "                                  save_to_dir=path+mode+\"_aug\", save_prefix=name_img.replace(\".png\",\"\"),\n",
    "                                        save_format=\"jpeg\"):\n",
    "            i += 1\n",
    "            if i > numAugPerImg:\n",
    "                break\n",
    "    \n",
    "    print(\"Data augmentation done for {0} set with {1} per each image\".format(mode, numAugPerImg))\n",
    "\n",
    "rawImgAugment(\"train\", 30)   # Augmenting 30 images per each train image\n",
    "rawImgAugment(\"test\", 10)    # Augmenting 10 images per each test image"
   ]
  }
 ],
 "metadata": {
  "kernelspec": {
   "display_name": "Python 3 (ipykernel)",
   "language": "python",
   "name": "python3"
  },
  "language_info": {
   "codemirror_mode": {
    "name": "ipython",
    "version": 3
   },
   "file_extension": ".py",
   "mimetype": "text/x-python",
   "name": "python",
   "nbconvert_exporter": "python",
   "pygments_lexer": "ipython3",
   "version": "3.10.12"
  }
 },
 "nbformat": 4,
 "nbformat_minor": 5
}
