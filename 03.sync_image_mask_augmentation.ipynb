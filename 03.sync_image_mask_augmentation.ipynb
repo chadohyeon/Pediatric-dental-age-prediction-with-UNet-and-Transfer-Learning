{
 "cells": [
  {
   "cell_type": "code",
   "execution_count": 3,
   "id": "1b399522-a432-46db-b8e8-4fe9b7fe7ccf",
   "metadata": {},
   "outputs": [
    {
     "name": "stdout",
     "output_type": "stream",
     "text": [
      "Loaded all modules\n"
     ]
    }
   ],
   "source": [
    "### Loading required modules\n",
    "\n",
    "import numpy as np\n",
    "import tensorflow as tf\n",
    "import os,sys\n",
    "import datetime\n",
    "import pickle\n",
    "from tensorflow.keras.preprocessing.image import ImageDataGenerator\n",
    "from tensorflow.keras.preprocessing.image import load_img, img_to_array, array_to_img, save_img\n",
    "from tensorflow.keras.models import Sequential\n",
    "from tensorflow.keras.layers import Dropout, Activation, Dense\n",
    "from tensorflow.keras.layers import Flatten, Conv2D, MaxPooling2D, BatchNormalization\n",
    "from tensorflow.keras.models import load_model\n",
    "from tensorflow.keras.optimizers import Adam\n",
    "import cv2\n",
    "from matplotlib import pyplot as plt\n",
    "from sklearn.metrics import mean_absolute_error, mean_absolute_percentage_error, mean_squared_error, r2_score\n",
    "\n",
    "tf.config.list_physical_devices('GPU')\n",
    "\n",
    "path=\"/home/ubuntu/pediatric_dental_age_prediction/mask/\"\n",
    "\n",
    "print(\"Loaded all modules\")"
   ]
  },
  {
   "cell_type": "code",
   "execution_count": 2,
   "id": "7fc58e7a-50ba-4f1d-8257-707416b4fb85",
   "metadata": {},
   "outputs": [
    {
     "name": "stdout",
     "output_type": "stream",
     "text": [
      "Original image files: /home/ubuntu/project/mask_test/train_image\n",
      "Saving to ... : /home/ubuntu/project/mask_test/train_image_aug\n",
      "Original true mask files: /home/ubuntu/project/mask_test/train_trueMask\n",
      "Saving to ... : /home/ubuntu/project/mask_test/train_trueMask_aug\n",
      "Data augmentation done for train set with 20 per each image and its mask\n",
      "Original image files: /home/ubuntu/project/mask_test/test_image\n",
      "Saving to ... : /home/ubuntu/project/mask_test/test_image_aug\n",
      "Original true mask files: /home/ubuntu/project/mask_test/test_trueMask\n",
      "Saving to ... : /home/ubuntu/project/mask_test/test_trueMask_aug\n",
      "Data augmentation done for test set with 10 per each image and its mask\n"
     ]
    }
   ],
   "source": [
    "### Synchronized augmentation of the image and its true mask\n",
    "\n",
    "def syncAug(mode, numAugPerImg):\n",
    "    datagen_args=dict(rotation_range=5,\n",
    "                      width_shift_range=0.1,\n",
    "                      height_shift_range=0.05,\n",
    "                      zoom_range=0.15,\n",
    "                      horizontal_flip=True,\n",
    "                      fill_mode='nearest')\n",
    "    \n",
    "    image_datagen = ImageDataGenerator(**datagen_args)\n",
    "    trueMask_datagen = ImageDataGenerator(**datagen_args)\n",
    "    \n",
    "    print(\"Original image files: {0}\".format(path+mode+\"_image\"))\n",
    "    print(\"Saving to ... : {0}\".format(path+mode+\"_image_aug\"))\n",
    "    \n",
    "    print(\"Original true mask files: {0}\".format(path+mode+\"_trueMask\"))\n",
    "    print(\"Saving to ... : {0}\".format(path+mode+\"_trueMask_aug\"))\n",
    "    \n",
    "    for name_img in os.listdir(path+mode+\"_image\"):\n",
    "        img = cv2.imread(path+mode+\"_image/{0}\".format(name_img))  # cv2 img\n",
    "        imgRes = cv2.resize(img, dsize=(512, 256)) ### Resizing to \n",
    "        imgResArray = img_to_array(imgRes)\n",
    "        imgResArray = imgResArray.reshape((1,) + imgResArray.shape)\n",
    "        \n",
    "        trueMask = cv2.imread(path+mode+\"_trueMask/{0}\".format(name_img))  # cv2 img\n",
    "        trueMaskRes = cv2.resize(trueMask, dsize=(512, 256)) ### Resizing to \n",
    "        trueMaskResArray = img_to_array(trueMaskRes)\n",
    "        trueMaskResArray = trueMaskResArray.reshape((1,) + trueMaskResArray.shape)\n",
    "    \n",
    "        for i in range(numAugPerImg):\n",
    "            SEED = np.random.randint(1,10000)\n",
    "            augImg =image_datagen.flow(imgResArray, seed=SEED).next()[0,:,:,:]\n",
    "            augTrueMask = trueMask_datagen.flow(trueMaskResArray, seed=SEED).next()[0,:,:,:]\n",
    "        \n",
    "            save_img(path+mode+\"_image_aug/{0}_0_{1}.jpeg\".format(name_img.replace(\".png\",\"\"),SEED), \n",
    "                     augImg, file_format=\"jpeg\")\n",
    "        \n",
    "            save_img(path+mode+\"_trueMask_aug/{0}_0_{1}.jpeg\".format(name_img.replace(\".png\",\"\"),SEED), \n",
    "                     augTrueMask, file_format=\"jpeg\")\n",
    "            \n",
    "    print(\"Data augmentation done for {0} set with {1} per each image and its mask\".format(mode, numAugPerImg))\n",
    "\n",
    "syncAug(\"train\", 20)\n",
    "syncAug(\"test\", 10)"
   ]
  }
 ],
 "metadata": {
  "kernelspec": {
   "display_name": "Python 3 (ipykernel)",
   "language": "python",
   "name": "python3"
  },
  "language_info": {
   "codemirror_mode": {
    "name": "ipython",
    "version": 3
   },
   "file_extension": ".py",
   "mimetype": "text/x-python",
   "name": "python",
   "nbconvert_exporter": "python",
   "pygments_lexer": "ipython3",
   "version": "3.10.12"
  }
 },
 "nbformat": 4,
 "nbformat_minor": 5
}
