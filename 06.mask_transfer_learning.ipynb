{
 "cells": [
  {
   "cell_type": "code",
   "execution_count": 1,
   "id": "1b399522-a432-46db-b8e8-4fe9b7fe7ccf",
   "metadata": {},
   "outputs": [
    {
     "name": "stderr",
     "output_type": "stream",
     "text": [
      "2023-11-13 01:47:43.733297: I tensorflow/core/platform/cpu_feature_guard.cc:182] This TensorFlow binary is optimized to use available CPU instructions in performance-critical operations.\n",
      "To enable the following instructions: AVX2 FMA, in other operations, rebuild TensorFlow with the appropriate compiler flags.\n",
      "2023-11-13 01:47:44.381959: W tensorflow/compiler/tf2tensorrt/utils/py_utils.cc:38] TF-TRT Warning: Could not find TensorRT\n"
     ]
    },
    {
     "name": "stdout",
     "output_type": "stream",
     "text": [
      "Loaded all modules\n"
     ]
    },
    {
     "name": "stderr",
     "output_type": "stream",
     "text": [
      "2023-11-13 01:47:45.737078: I tensorflow/compiler/xla/stream_executor/cuda/cuda_gpu_executor.cc:995] successful NUMA node read from SysFS had negative value (-1), but there must be at least one NUMA node, so returning NUMA node zero. See more at https://github.com/torvalds/linux/blob/v6.0/Documentation/ABI/testing/sysfs-bus-pci#L344-L355\n",
      "2023-11-13 01:47:45.758310: I tensorflow/compiler/xla/stream_executor/cuda/cuda_gpu_executor.cc:995] successful NUMA node read from SysFS had negative value (-1), but there must be at least one NUMA node, so returning NUMA node zero. See more at https://github.com/torvalds/linux/blob/v6.0/Documentation/ABI/testing/sysfs-bus-pci#L344-L355\n",
      "2023-11-13 01:47:45.759129: I tensorflow/compiler/xla/stream_executor/cuda/cuda_gpu_executor.cc:995] successful NUMA node read from SysFS had negative value (-1), but there must be at least one NUMA node, so returning NUMA node zero. See more at https://github.com/torvalds/linux/blob/v6.0/Documentation/ABI/testing/sysfs-bus-pci#L344-L355\n"
     ]
    }
   ],
   "source": [
    "### Loading required modules\n",
    "\n",
    "import numpy as np\n",
    "import tensorflow as tf\n",
    "import os,sys\n",
    "import datetime\n",
    "import pickle\n",
    "from tensorflow.keras.preprocessing.image import ImageDataGenerator\n",
    "from tensorflow.keras.preprocessing.image import load_img, img_to_array, array_to_img\n",
    "from tensorflow.keras.models import Sequential\n",
    "from tensorflow.keras.layers import Dense\n",
    "from tensorflow.keras.layers import GlobalAveragePooling2D\n",
    "from tensorflow.keras.models import load_model\n",
    "from tensorflow.keras.optimizers import Adam, RMSprop, SGD\n",
    "import cv2\n",
    "from matplotlib import pyplot as plt\n",
    "from sklearn.metrics import mean_absolute_error, mean_absolute_percentage_error, mean_squared_error, r2_score\n",
    "from tensorflow.keras.applications import VGG16,ResNet50V2,DenseNet201,InceptionV3,InceptionResNetV2,NASNetLarge,NASNetMobile,MobileNetV2\n",
    "\n",
    "tf.config.list_physical_devices('GPU')\n",
    "\n",
    "path=\"/home/ubuntu/pediatric_dental_age_prediction/mask/\"\n",
    "\n",
    "#whichMask = \"predMask\"   ### Probability mask (0.05, 0.61, 0.97)\n",
    "whichMask = \"predMask_bin\"  ### Binarized mask (0, 1, 1)\n",
    "\n",
    "print(\"Loaded all modules\")"
   ]
  },
  {
   "cell_type": "code",
   "execution_count": 2,
   "id": "f584beb0-7917-4d52-a7b2-0d13be5df89f",
   "metadata": {},
   "outputs": [
    {
     "name": "stdout",
     "output_type": "stream",
     "text": [
      "Prep for train set done\n"
     ]
    }
   ],
   "source": [
    "### Prep for training data (8 GB RAM used for 1400 images)\n",
    "\n",
    "X_train_li = [] ### arrays of inferred-mask images\n",
    "Y_train_li = [] ### ages of corresponding images\n",
    "subj_train_li = []\n",
    "fn_train_li = []\n",
    "\n",
    "trainAgeDic={}\n",
    "with open(path+\"train_age.txt\") as ageFile:\n",
    "    for line in ageFile.readlines():\n",
    "        subj, corrAgeStr = line.rstrip().split(\"\\t\")\n",
    "        trainAgeDic[subj] = float(corrAgeStr)\n",
    "\n",
    "for imgFn in os.listdir(path+\"train_\"+whichMask):\n",
    "    cvImgNorm = cv2.imread(path+\"train_{0}/\".format(whichMask)+imgFn)/255\n",
    "    subj = \"_\".join(imgFn.split(\"_\")[:2])\n",
    "    cvImgAge = trainAgeDic[subj]\n",
    "\n",
    "    X_train_li.append(cvImgNorm)\n",
    "    Y_train_li.append(cvImgAge)\n",
    "    subj_train_li.append(subj)\n",
    "    fn_train_li.append(imgFn)\n",
    "\n",
    "X_train = np.array(X_train_li)\n",
    "Y_train = np.array(Y_train_li)\n",
    "print(\"Prep for train set done\")"
   ]
  },
  {
   "cell_type": "code",
   "execution_count": 3,
   "id": "79954ff7-d3f3-4f56-99d8-14e9eb20b7b6",
   "metadata": {},
   "outputs": [
    {
     "name": "stdout",
     "output_type": "stream",
     "text": [
      "Prep for test set done\n"
     ]
    }
   ],
   "source": [
    "### Prep for testing data (1.8 GB RAM used for 300 images)\n",
    "\n",
    "X_test_li = [] ### arrays of inferred-mask images\n",
    "Y_test_li = [] ### ages of corresponding images\n",
    "subj_test_li = []\n",
    "fn_test_li = []\n",
    "\n",
    "testAgeDic={}\n",
    "with open(path+\"test_age.txt\") as ageFile:\n",
    "    for line in ageFile.readlines():\n",
    "        subj, corrAgeStr = line.rstrip().split(\"\\t\")\n",
    "        testAgeDic[subj] = float(corrAgeStr)\n",
    "\n",
    "for imgFn in os.listdir(path+\"test_\"+whichMask):\n",
    "    cvImgNorm = cv2.imread(path+\"test_{0}/\".format(whichMask)+imgFn)/255\n",
    "    subj = \"_\".join(imgFn.split(\"_\")[:2])\n",
    "    cvImgAge = testAgeDic[subj]\n",
    "\n",
    "    X_test_li.append(cvImgNorm)\n",
    "    Y_test_li.append(cvImgAge)\n",
    "    subj_test_li.append(subj)\n",
    "    fn_test_li.append(imgFn)\n",
    "\n",
    "X_test = np.array(X_test_li)\n",
    "Y_test = np.array(Y_test_li)\n",
    "print(\"Prep for test set done\")"
   ]
  },
  {
   "cell_type": "code",
   "execution_count": 4,
   "id": "521bff14-0abe-421e-8ae3-345c898cb79a",
   "metadata": {},
   "outputs": [],
   "source": [
    "### Defining transfer learning model\n",
    "\n",
    "from tensorflow.keras.models import Sequential\n",
    "from tensorflow.keras.layers import Dense\n",
    "from tensorflow.keras.layers import GlobalAveragePooling2D\n",
    "from tensorflow.keras.models import load_model\n",
    "from tensorflow.keras.optimizers import Adam, RMSprop, SGD\n",
    "from tensorflow.keras.applications import VGG16,ResNet50V2,DenseNet201,InceptionV3,InceptionResNetV2,NASNetLarge,NASNetMobile,MobileNetV2\n",
    "\n",
    "def createTransfer(inputShape,\n",
    "                   denseLayerNodesGiven,\n",
    "                   preTrainedGiven=\"VGG16\",\n",
    "                   unfrozenLayersGiven=None,\n",
    "                   activationFunctionGiven=\"relu\"\n",
    "              ):\n",
    "    model = Sequential()\n",
    "    \n",
    "    if preTrainedGiven == \"VGG16\":\n",
    "        model.add(VGG16(input_shape=inputShape, include_top=False))\n",
    "    elif preTrainedGiven == \"ResNet50V2\":\n",
    "        model.add(ResNet50V2(input_shape=inputShape, include_top=False))\n",
    "    elif preTrainedGiven == \"DenseNet201\":\n",
    "        model.add(DenseNet201(input_shape=inputShape, include_top=False))\n",
    "    elif preTrainedGiven == \"InceptionV3\":\n",
    "        model.add(InceptionV3(input_shape=inputShape, include_top=False))\n",
    "    elif preTrainedGiven == \"InceptionResNetV2\":\n",
    "        model.add(InceptionResNetV2(input_shape=inputShape, include_top=False))\n",
    "    elif preTrainedGiven == \"NASNetLarge\":\n",
    "        model.add(NASNetLarge(input_shape=inputShape, include_top=False))\n",
    "    elif preTrainedGiven == \"NASNetMobile\":\n",
    "        model.add(NASNetMobile(input_shape=inputShape, include_top=False))\n",
    "    elif preTrainedGiven == \"MobileNetV2\":\n",
    "        model.add(MobileNetV2(input_shape=inputShape, include_top=False))\n",
    "\n",
    "    if unfrozenLayersGiven:\n",
    "        for layer in model.layers[:-unfrozenLayersGiven]:\n",
    "            layer.trainable = False\n",
    "    model.add(GlobalAveragePooling2D())\n",
    "    model.add(Dense(denseLayerNodesGiven, activation = activationFunctionGiven))\n",
    "    model.add(Dense(1, activation = \"linear\"))\n",
    "\n",
    "    print(\"{0}-preTrained model built with tensorflow.keras\".format(preTrainedGiven))\n",
    "    \n",
    "    return(model)"
   ]
  },
  {
   "cell_type": "code",
   "execution_count": 5,
   "id": "1ee5e77d-e133-47da-aad8-e9bce34a5663",
   "metadata": {},
   "outputs": [
    {
     "name": "stderr",
     "output_type": "stream",
     "text": [
      "2023-11-13 01:48:14.275646: I tensorflow/compiler/xla/stream_executor/cuda/cuda_gpu_executor.cc:995] successful NUMA node read from SysFS had negative value (-1), but there must be at least one NUMA node, so returning NUMA node zero. See more at https://github.com/torvalds/linux/blob/v6.0/Documentation/ABI/testing/sysfs-bus-pci#L344-L355\n",
      "2023-11-13 01:48:14.276501: I tensorflow/compiler/xla/stream_executor/cuda/cuda_gpu_executor.cc:995] successful NUMA node read from SysFS had negative value (-1), but there must be at least one NUMA node, so returning NUMA node zero. See more at https://github.com/torvalds/linux/blob/v6.0/Documentation/ABI/testing/sysfs-bus-pci#L344-L355\n",
      "2023-11-13 01:48:14.277211: I tensorflow/compiler/xla/stream_executor/cuda/cuda_gpu_executor.cc:995] successful NUMA node read from SysFS had negative value (-1), but there must be at least one NUMA node, so returning NUMA node zero. See more at https://github.com/torvalds/linux/blob/v6.0/Documentation/ABI/testing/sysfs-bus-pci#L344-L355\n",
      "2023-11-13 01:48:14.760130: I tensorflow/compiler/xla/stream_executor/cuda/cuda_gpu_executor.cc:995] successful NUMA node read from SysFS had negative value (-1), but there must be at least one NUMA node, so returning NUMA node zero. See more at https://github.com/torvalds/linux/blob/v6.0/Documentation/ABI/testing/sysfs-bus-pci#L344-L355\n",
      "2023-11-13 01:48:14.761115: I tensorflow/compiler/xla/stream_executor/cuda/cuda_gpu_executor.cc:995] successful NUMA node read from SysFS had negative value (-1), but there must be at least one NUMA node, so returning NUMA node zero. See more at https://github.com/torvalds/linux/blob/v6.0/Documentation/ABI/testing/sysfs-bus-pci#L344-L355\n",
      "2023-11-13 01:48:14.761877: I tensorflow/compiler/xla/stream_executor/cuda/cuda_gpu_executor.cc:995] successful NUMA node read from SysFS had negative value (-1), but there must be at least one NUMA node, so returning NUMA node zero. See more at https://github.com/torvalds/linux/blob/v6.0/Documentation/ABI/testing/sysfs-bus-pci#L344-L355\n",
      "2023-11-13 01:48:14.762604: I tensorflow/core/common_runtime/gpu/gpu_device.cc:1639] Created device /job:localhost/replica:0/task:0/device:GPU:0 with 19995 MB memory:  -> device: 0, name: NVIDIA A10G, pci bus id: 0000:00:1e.0, compute capability: 8.6\n"
     ]
    },
    {
     "name": "stdout",
     "output_type": "stream",
     "text": [
      "ResNet50V2-preTrained model built with tensorflow.keras\n"
     ]
    }
   ],
   "source": [
    "### Defining transfer learning models with parameters\n",
    "\n",
    "## Model part\n",
    "\n",
    "preTrained = \"ResNet50V2\"\n",
    "#preTrained = \"DenseNet201\"\n",
    "#preTrained = \"InceptionV3\"\n",
    "#preTrained = \"InceptionResNetV2\"\n",
    "#preTrained = \"NASNetMobile\"\n",
    "#preTrained = \"MobileNetV2\"  ### Don't panic of warning. Original MobileNet was trained under 224 x 224\n",
    "\n",
    "denseLayerNodes = 32\n",
    "\n",
    "unfrozenLayers = None # Train all layers\n",
    "\n",
    "activationFunction=\"relu\"\n",
    "\n",
    "\n",
    "\n",
    "## Learning part\n",
    "\n",
    "lossFunction = \"mean_squared_error\"\n",
    "\n",
    "learningRate = 1e-3\n",
    "epochSize = 25\n",
    "batchSize = 8\n",
    "\n",
    "optimizer = \"Adam\"\n",
    "\n",
    "def optimizer_select(optimizer, learningRate\n",
    "              ):\n",
    "    \n",
    "    if optimizer == \"Adam\":\n",
    "        opt = Adam(learning_rate=learningRate)\n",
    "    elif optimizer == \"RMSprop\":\n",
    "        opt = RMSprop(learning_rate=learningRate)\n",
    "    elif optimizer == \"SGD\":\n",
    "        opt = SGD(learning_rate=learningRate)\n",
    "    \n",
    "    return(opt)\n",
    "\n",
    "\n",
    "model = createTransfer(inputShape=X_train.shape[1:],\n",
    "                   denseLayerNodesGiven = denseLayerNodes,\n",
    "                   preTrainedGiven = preTrained,\n",
    "                   unfrozenLayersGiven = unfrozenLayers,\n",
    "                   activationFunctionGiven = activationFunction)\n",
    "\n",
    "\n",
    "model.compile(loss=lossFunction, optimizer = optimizer_select(optimizer, learningRate))"
   ]
  },
  {
   "cell_type": "code",
   "execution_count": 6,
   "id": "e1509bc5-0994-4f89-a3b4-b2d0336ba515",
   "metadata": {},
   "outputs": [
    {
     "name": "stdout",
     "output_type": "stream",
     "text": [
      "Training the model...\n"
     ]
    },
    {
     "name": "stderr",
     "output_type": "stream",
     "text": [
      "2023-11-13 01:48:21.133419: W tensorflow/tsl/framework/cpu_allocator_impl.cc:83] Allocation of 2202009600 exceeds 10% of free system memory.\n",
      "2023-11-13 01:48:22.119172: W tensorflow/tsl/framework/cpu_allocator_impl.cc:83] Allocation of 2202009600 exceeds 10% of free system memory.\n"
     ]
    },
    {
     "name": "stdout",
     "output_type": "stream",
     "text": [
      "Epoch 1/25\n"
     ]
    },
    {
     "name": "stderr",
     "output_type": "stream",
     "text": [
      "2023-11-13 01:48:31.617407: I tensorflow/compiler/xla/stream_executor/cuda/cuda_dnn.cc:432] Loaded cuDNN version 8903\n",
      "2023-11-13 01:48:32.990650: I tensorflow/compiler/xla/stream_executor/cuda/cuda_blas.cc:606] TensorFloat-32 will be used for the matrix multiplication. This will only be logged once.\n",
      "2023-11-13 01:48:32.992237: I tensorflow/compiler/xla/service/service.cc:168] XLA service 0x7ff0971591e0 initialized for platform CUDA (this does not guarantee that XLA will be used). Devices:\n",
      "2023-11-13 01:48:32.992259: I tensorflow/compiler/xla/service/service.cc:176]   StreamExecutor device (0): NVIDIA A10G, Compute Capability 8.6\n",
      "2023-11-13 01:48:32.996366: I tensorflow/compiler/mlir/tensorflow/utils/dump_mlir_util.cc:255] disabling MLIR crash reproducer, set env var `MLIR_CRASH_REPRODUCER_DIRECTORY` to enable.\n",
      "2023-11-13 01:48:33.102020: I ./tensorflow/compiler/jit/device_compiler.h:186] Compiled cluster using XLA!  This line is logged at most once for the lifetime of the process.\n"
     ]
    },
    {
     "name": "stdout",
     "output_type": "stream",
     "text": [
      "175/175 [==============================] - 39s 76ms/step - loss: 2.2730 - val_loss: 167.2513\n",
      "Epoch 2/25\n",
      "175/175 [==============================] - 12s 66ms/step - loss: 0.7447 - val_loss: 60.6059\n",
      "Epoch 3/25\n",
      "175/175 [==============================] - 12s 66ms/step - loss: 0.3400 - val_loss: 1.0260\n",
      "Epoch 4/25\n",
      "175/175 [==============================] - 12s 66ms/step - loss: 0.4092 - val_loss: 30.6921\n",
      "Epoch 5/25\n",
      "175/175 [==============================] - 12s 66ms/step - loss: 0.2352 - val_loss: 0.2349\n",
      "Epoch 6/25\n",
      "175/175 [==============================] - 12s 66ms/step - loss: 0.1324 - val_loss: 0.4600\n",
      "Epoch 7/25\n",
      "175/175 [==============================] - 12s 66ms/step - loss: 0.1090 - val_loss: 0.3021\n",
      "Epoch 8/25\n",
      "175/175 [==============================] - 12s 66ms/step - loss: 0.0855 - val_loss: 0.2720\n",
      "Epoch 9/25\n",
      "175/175 [==============================] - 12s 66ms/step - loss: 0.1259 - val_loss: 1.2858\n",
      "Epoch 10/25\n",
      "175/175 [==============================] - 12s 66ms/step - loss: 0.1195 - val_loss: 0.4601\n",
      "Epoch 11/25\n",
      "175/175 [==============================] - 12s 66ms/step - loss: 0.0835 - val_loss: 0.5923\n",
      "Epoch 12/25\n",
      "175/175 [==============================] - 12s 66ms/step - loss: 0.0553 - val_loss: 0.2870\n",
      "Epoch 13/25\n",
      "175/175 [==============================] - 12s 66ms/step - loss: 0.0679 - val_loss: 0.3147\n",
      "Epoch 14/25\n",
      "175/175 [==============================] - 12s 66ms/step - loss: 0.0482 - val_loss: 0.3434\n",
      "Epoch 15/25\n",
      "175/175 [==============================] - 12s 66ms/step - loss: 0.0922 - val_loss: 1.4559\n",
      "Epoch 16/25\n",
      "175/175 [==============================] - 12s 66ms/step - loss: 0.0565 - val_loss: 0.7769\n",
      "Epoch 17/25\n",
      "175/175 [==============================] - 12s 66ms/step - loss: 0.0767 - val_loss: 0.7383\n",
      "Epoch 18/25\n",
      "175/175 [==============================] - 12s 66ms/step - loss: 0.0780 - val_loss: 1.0565\n",
      "Epoch 19/25\n",
      "175/175 [==============================] - 12s 66ms/step - loss: 0.1130 - val_loss: 5.9997\n",
      "Epoch 20/25\n",
      "175/175 [==============================] - 12s 66ms/step - loss: 0.1295 - val_loss: 5.3474\n",
      "Epoch 21/25\n",
      "175/175 [==============================] - 12s 66ms/step - loss: 0.1116 - val_loss: 2.3058\n",
      "Epoch 22/25\n",
      "175/175 [==============================] - 12s 66ms/step - loss: 0.1323 - val_loss: 21.2593\n",
      "Epoch 23/25\n",
      "175/175 [==============================] - 12s 69ms/step - loss: 0.0571 - val_loss: 0.2916\n",
      "Epoch 24/25\n",
      "175/175 [==============================] - 12s 67ms/step - loss: 0.0576 - val_loss: 0.2588\n",
      "Epoch 25/25\n",
      "175/175 [==============================] - 12s 66ms/step - loss: 0.0379 - val_loss: 0.5470\n"
     ]
    }
   ],
   "source": [
    "### Training the model\n",
    "\n",
    "print(\"Training the model...\")\n",
    "\n",
    "modelHistory = model.fit(x=X_train, y=Y_train,\n",
    "                    validation_data = (X_test, Y_test),\n",
    "    epochs=epochSize, batch_size=batchSize, verbose = 1)\n"
   ]
  },
  {
   "cell_type": "code",
   "execution_count": 7,
   "id": "ad5158ba-6d30-4276-a21b-85f42ef130c5",
   "metadata": {},
   "outputs": [
    {
     "name": "stdout",
     "output_type": "stream",
     "text": [
      "Model fully trained and saved\n"
     ]
    }
   ],
   "source": [
    "### Saving the model\n",
    "\n",
    "import datetime\n",
    "import pickle\n",
    "\n",
    "\n",
    "if not unfrozenLayers:\n",
    "    unfrozenNaming = \"All\"\n",
    "else:\n",
    "    unfrozenNaming = unfrozenLayers\n",
    "\n",
    "\n",
    "lossFxShort = \"\".join([x[0] for x in lossFunction.split(\"_\")])\n",
    "modelTime = (datetime.datetime.now() + datetime.timedelta(hours=9)).strftime('%m%d_%H%M')\n",
    "\n",
    "modelName = path+\"model/{0}.{1}.loss_{2}.lr_{3}.optimizer_{4}.epoch_{5}.batch_{6}.\\\n",
    "nodes_{7}.unfrozen_{8}.actFx_{9}.time_{10}.keras\".format(preTrained,whichMask,\n",
    "                                                               lossFxShort,\n",
    "                                                               learningRate,\n",
    "                                                               optimizer,\n",
    "                                                               epochSize,\n",
    "                                                               batchSize,\n",
    "                                                               denseLayerNodes,\n",
    "                                                               unfrozenNaming,\n",
    "                                                               activationFunction,\n",
    "                                                               modelTime)\n",
    "\n",
    "modelHistoryName = path+\"modelHistory/{0}.{1}.loss_{2}.lr_{3}.optimizer_{4}.epoch_{5}.batch_{6}.\\\n",
    "nodes_{7}.unfrozen_{8}.actFx_{9}.time_{10}.history\".format(preTrained,whichMask,\n",
    "                                                               lossFxShort,\n",
    "                                                               learningRate,\n",
    "                                                               optimizer,\n",
    "                                                               epochSize,\n",
    "                                                               batchSize,\n",
    "                                                               denseLayerNodes,\n",
    "                                                               unfrozenNaming,\n",
    "                                                               activationFunction,\n",
    "                                                               modelTime)\n",
    "model.save(modelName)\n",
    "\n",
    "with open(modelHistoryName, 'wb') as file_pi:\n",
    "        pickle.dump(modelHistory, file_pi)\n",
    "    \n",
    "print(\"Model fully trained and saved\")"
   ]
  },
  {
   "cell_type": "code",
   "execution_count": 8,
   "id": "e1e7e741-746a-4e6f-8841-71d573ac2a31",
   "metadata": {},
   "outputs": [
    {
     "data": {
      "image/png": "[encoded data removed]",
      "text/plain": [
       "<Figure size 640x480 with 1 Axes>"
      ]
     },
     "metadata": {},
     "output_type": "display_data"
    },
    {
     "name": "stdout",
     "output_type": "stream",
     "text": [
      "Model: \"sequential\"\n",
      "_________________________________________________________________\n",
      " Layer (type)                Output Shape              Param #   \n",
      "=================================================================\n",
      " resnet50v2 (Functional)     (None, 8, 16, 2048)       23564800  \n",
      "                                                                 \n",
      " global_average_pooling2d (  (None, 2048)              0         \n",
      " GlobalAveragePooling2D)                                         \n",
      "                                                                 \n",
      " dense (Dense)               (None, 32)                65568     \n",
      "                                                                 \n",
      " dense_1 (Dense)             (None, 1)                 33        \n",
      "                                                                 \n",
      "=================================================================\n",
      "Total params: 23630401 (90.14 MB)\n",
      "Trainable params: 23584961 (89.97 MB)\n",
      "Non-trainable params: 45440 (177.50 KB)\n",
      "_________________________________________________________________\n"
     ]
    }
   ],
   "source": [
    "### Model learning curve and summary\n",
    "\n",
    "from matplotlib import pyplot as plt\n",
    "\n",
    "ylimLoss = 10\n",
    "\n",
    "plt.plot(modelHistory.history['loss'], label = \"Training set\")\n",
    "plt.plot(modelHistory.history['val_loss'], label = \"Validation set\")\n",
    "plt.xlabel('epoch')\n",
    "plt.ylabel('loss')\n",
    "\n",
    "plt.xticks(np.arange(0,epochSize, 5))\n",
    "plt.yticks(np.arange(0,ylimLoss, 1))\n",
    "plt.ylim(bottom=0, top=ylimLoss)\n",
    "plt.legend()\n",
    "\n",
    "plt.show()\n",
    "\n",
    "model.summary()\n"
   ]
  },
  {
   "cell_type": "code",
   "execution_count": 9,
   "id": "54050c63-d31d-473a-8e89-5af728136480",
   "metadata": {},
   "outputs": [
    {
     "name": "stdout",
     "output_type": "stream",
     "text": [
      "10/10 [==============================] - 2s 99ms/step\n",
      "Evaluation done\n"
     ]
    }
   ],
   "source": [
    "### Computing evalutation metrics\n",
    "\n",
    "from sklearn.metrics import mean_absolute_error, mean_absolute_percentage_error, mean_squared_error, r2_score\n",
    "\n",
    "evalDic={}\n",
    "\n",
    "evalDicName = path+\"eval/{0}.{1}.loss_{2}.lr_{3}.optimizer_{4}.epoch_{5}.batch_{6}.\\\n",
    "nodes_{7}.unfrozen_{8}.actFx_{9}.time_{10}.eval\".format(preTrained, whichMask,\n",
    "                                                               lossFxShort,\n",
    "                                                               learningRate,\n",
    "                                                               optimizer,\n",
    "                                                               epochSize,\n",
    "                                                               batchSize,\n",
    "                                                               denseLayerNodes,\n",
    "                                                               unfrozenNaming,\n",
    "                                                               activationFunction,\n",
    "                                                               modelTime)\n",
    "\n",
    "Y_pred = model.predict(X_test)\n",
    "Y_gold = Y_test.reshape(-1,1)\n",
    "\n",
    "mse_val = mean_squared_error(Y_gold, Y_pred)\n",
    "rmse_val = mean_squared_error(Y_gold, Y_pred, squared=False)\n",
    "mae_val = mean_absolute_error(Y_gold, Y_pred)\n",
    "mape_val = mean_absolute_percentage_error(Y_gold, Y_pred)\n",
    "r2_val = r2_score(Y_gold, Y_pred)\n",
    "\n",
    "evalDic[\"subj\"]=np.array(subj_test_li).reshape(-1, 1)\n",
    "evalDic[\"pred\"]=Y_pred\n",
    "evalDic[\"gold\"]=Y_gold\n",
    "\n",
    "evalDic[\"mse\"]=mse_val\n",
    "evalDic[\"rmse\"]=rmse_val\n",
    "evalDic[\"mae\"]=mae_val\n",
    "evalDic[\"mape\"]=mape_val\n",
    "evalDic[\"r2\"]=r2_val\n",
    "\n",
    "with open(evalDicName, 'wb') as file_pi:\n",
    "        pickle.dump(evalDic, file_pi)\n",
    "    \n",
    "print(\"Evaluation done\")"
   ]
  },
  {
   "cell_type": "code",
   "execution_count": 11,
   "id": "dee30dc6-bc46-4242-bf8d-f7a31bc91fd7",
   "metadata": {
    "scrolled": true
   },
   "outputs": [
    {
     "name": "stdout",
     "output_type": "stream",
     "text": [
      "Mean-squared error: 0.5470047293449912\n",
      "Mean absolute error: 0.5977108605702718\n",
      "Mean absolute percentage error: 0.09688406564134576\n",
      "R2: 0.7296516988410258\n"
     ]
    },
    {
     "data": {
      "image/png": "[encoded data removed]",
      "text/plain": [
       "<Figure size 640x480 with 1 Axes>"
      ]
     },
     "metadata": {},
     "output_type": "display_data"
    }
   ],
   "source": [
    "### Quick visualization of evaluation metrics\n",
    "\n",
    "from matplotlib import pyplot as plt\n",
    "\n",
    "print(\"Mean-squared error: {0}\".format(evalDic[\"mse\"]))\n",
    "print(\"Root mean-squared error: {0}\".format(evalDic[\"rmse\"]))\n",
    "\n",
    "print(\"Mean absolute error: {0}\".format(evalDic[\"mae\"]))\n",
    "print(\"Mean absolute percentage error: {0}\".format(evalDic[\"mape\"]))\n",
    "print(\"R2: {0}\".format(evalDic[\"r2\"]))\n",
    "\n",
    "plt.scatter(evalDic[\"pred\"], evalDic[\"gold\"])\n",
    "plt.xlabel(\"Predicted Age\")\n",
    "plt.ylabel(\"Actual Age\")\n",
    "plt.show()"
   ]
  }
 ],
 "metadata": {
  "kernelspec": {
   "display_name": "Python 3 (ipykernel)",
   "language": "python",
   "name": "python3"
  },
  "language_info": {
   "codemirror_mode": {
    "name": "ipython",
    "version": 3
   },
   "file_extension": ".py",
   "mimetype": "text/x-python",
   "name": "python",
   "nbconvert_exporter": "python",
   "pygments_lexer": "ipython3",
   "version": "3.10.12"
  }
 },
 "nbformat": 4,
 "nbformat_minor": 5
}
