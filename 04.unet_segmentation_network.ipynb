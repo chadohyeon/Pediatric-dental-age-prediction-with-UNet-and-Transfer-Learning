{
 "cells": [
  {
   "cell_type": "code",
   "execution_count": 1,
   "id": "1b399522-a432-46db-b8e8-4fe9b7fe7ccf",
   "metadata": {},
   "outputs": [
    {
     "name": "stderr",
     "output_type": "stream",
     "text": [
      "2023-11-14 12:42:24.934969: I tensorflow/core/platform/cpu_feature_guard.cc:182] This TensorFlow binary is optimized to use available CPU instructions in performance-critical operations.\n",
      "To enable the following instructions: AVX2 FMA, in other operations, rebuild TensorFlow with the appropriate compiler flags.\n",
      "2023-11-14 12:42:25.598208: W tensorflow/compiler/tf2tensorrt/utils/py_utils.cc:38] TF-TRT Warning: Could not find TensorRT\n"
     ]
    },
    {
     "name": "stdout",
     "output_type": "stream",
     "text": [
      "Loaded all modules\n"
     ]
    },
    {
     "name": "stderr",
     "output_type": "stream",
     "text": [
      "2023-11-14 12:42:27.168176: I tensorflow/compiler/xla/stream_executor/cuda/cuda_gpu_executor.cc:995] successful NUMA node read from SysFS had negative value (-1), but there must be at least one NUMA node, so returning NUMA node zero. See more at https://github.com/torvalds/linux/blob/v6.0/Documentation/ABI/testing/sysfs-bus-pci#L344-L355\n",
      "2023-11-14 12:42:27.191378: I tensorflow/compiler/xla/stream_executor/cuda/cuda_gpu_executor.cc:995] successful NUMA node read from SysFS had negative value (-1), but there must be at least one NUMA node, so returning NUMA node zero. See more at https://github.com/torvalds/linux/blob/v6.0/Documentation/ABI/testing/sysfs-bus-pci#L344-L355\n",
      "2023-11-14 12:42:27.193548: I tensorflow/compiler/xla/stream_executor/cuda/cuda_gpu_executor.cc:995] successful NUMA node read from SysFS had negative value (-1), but there must be at least one NUMA node, so returning NUMA node zero. See more at https://github.com/torvalds/linux/blob/v6.0/Documentation/ABI/testing/sysfs-bus-pci#L344-L355\n"
     ]
    }
   ],
   "source": [
    "### Loading required modules\n",
    "\n",
    "import numpy as np\n",
    "import tensorflow as tf\n",
    "import os,sys\n",
    "import datetime\n",
    "import pickle\n",
    "from tensorflow.keras.preprocessing.image import ImageDataGenerator\n",
    "from tensorflow.keras.preprocessing.image import load_img, img_to_array, array_to_img, save_img\n",
    "from tensorflow.keras.models import Sequential\n",
    "from tensorflow.keras.layers import Dropout, Activation, Dense\n",
    "from tensorflow.keras.layers import Flatten, Conv2D, MaxPooling2D, Conv2DTranspose, BatchNormalization\n",
    "from tensorflow.keras.models import load_model\n",
    "from tensorflow.keras.optimizers import Adam, RMSprop, SGD\n",
    "import cv2\n",
    "from matplotlib import pyplot as plt\n",
    "from sklearn.metrics import mean_absolute_error, mean_absolute_percentage_error, mean_squared_error, r2_score\n",
    "\n",
    "tf.config.list_physical_devices('GPU')\n",
    "\n",
    "path=\"/home/ubuntu/pediatric_dental_age_prediction/mask/\"\n",
    "\n",
    "print(\"Loaded all modules\")"
   ]
  },
  {
   "cell_type": "code",
   "execution_count": 2,
   "id": "f584beb0-7917-4d52-a7b2-0d13be5df89f",
   "metadata": {},
   "outputs": [
    {
     "name": "stderr",
     "output_type": "stream",
     "text": [
      "2023-11-14 12:42:32.223618: I tensorflow/compiler/xla/stream_executor/cuda/cuda_gpu_executor.cc:995] successful NUMA node read from SysFS had negative value (-1), but there must be at least one NUMA node, so returning NUMA node zero. See more at https://github.com/torvalds/linux/blob/v6.0/Documentation/ABI/testing/sysfs-bus-pci#L344-L355\n",
      "2023-11-14 12:42:32.225777: I tensorflow/compiler/xla/stream_executor/cuda/cuda_gpu_executor.cc:995] successful NUMA node read from SysFS had negative value (-1), but there must be at least one NUMA node, so returning NUMA node zero. See more at https://github.com/torvalds/linux/blob/v6.0/Documentation/ABI/testing/sysfs-bus-pci#L344-L355\n",
      "2023-11-14 12:42:32.227656: I tensorflow/compiler/xla/stream_executor/cuda/cuda_gpu_executor.cc:995] successful NUMA node read from SysFS had negative value (-1), but there must be at least one NUMA node, so returning NUMA node zero. See more at https://github.com/torvalds/linux/blob/v6.0/Documentation/ABI/testing/sysfs-bus-pci#L344-L355\n",
      "2023-11-14 12:42:32.734594: I tensorflow/compiler/xla/stream_executor/cuda/cuda_gpu_executor.cc:995] successful NUMA node read from SysFS had negative value (-1), but there must be at least one NUMA node, so returning NUMA node zero. See more at https://github.com/torvalds/linux/blob/v6.0/Documentation/ABI/testing/sysfs-bus-pci#L344-L355\n",
      "2023-11-14 12:42:32.735561: I tensorflow/compiler/xla/stream_executor/cuda/cuda_gpu_executor.cc:995] successful NUMA node read from SysFS had negative value (-1), but there must be at least one NUMA node, so returning NUMA node zero. See more at https://github.com/torvalds/linux/blob/v6.0/Documentation/ABI/testing/sysfs-bus-pci#L344-L355\n",
      "2023-11-14 12:42:32.736305: I tensorflow/compiler/xla/stream_executor/cuda/cuda_gpu_executor.cc:995] successful NUMA node read from SysFS had negative value (-1), but there must be at least one NUMA node, so returning NUMA node zero. See more at https://github.com/torvalds/linux/blob/v6.0/Documentation/ABI/testing/sysfs-bus-pci#L344-L355\n",
      "2023-11-14 12:42:32.737006: I tensorflow/core/common_runtime/gpu/gpu_device.cc:1639] Created device /job:localhost/replica:0/task:0/device:GPU:0 with 20591 MB memory:  -> device: 0, name: NVIDIA A10G, pci bus id: 0000:00:1e.0, compute capability: 8.6\n"
     ]
    },
    {
     "name": "stdout",
     "output_type": "stream",
     "text": [
      "Prep for train set done\n"
     ]
    }
   ],
   "source": [
    "### Prep for training data (11 GB RAM used for 1400 images + 1400 masks)\n",
    "\n",
    "X_train_li = [] ### arrays of augmented images\n",
    "Y_train_li = [] ### arrays of augmented true masks\n",
    "\n",
    "subj_train_li = []\n",
    "fn_train_li = []\n",
    "\n",
    "for imgFn in os.listdir(path+\"train_image_aug\"):\n",
    "    cvImgNorm = cv2.imread(path+\"train_image_aug/\"+imgFn)/255\n",
    "    _, cvTrueMaskNorm = cv2.threshold(cv2.imread(path+\"train_trueMask_aug/\"+imgFn),\n",
    "                             128, 256, cv2.THRESH_BINARY)\n",
    "    cvTrueMaskNorm = tf.cast(tf.image.rgb_to_grayscale(cvTrueMaskNorm)/255, dtype=tf.uint8)\n",
    "\n",
    "    subj = \"_\".join(imgFn.split(\"_\")[:2])\n",
    "    \n",
    "    \n",
    "    X_train_li.append(cvImgNorm)\n",
    "    Y_train_li.append(cvTrueMaskNorm)\n",
    "    subj_train_li.append(subj)\n",
    "    fn_train_li.append(imgFn)\n",
    "\n",
    "X_train = np.array(X_train_li)\n",
    "Y_train = np.array(Y_train_li)\n",
    "print(\"Prep for train set done\")"
   ]
  },
  {
   "cell_type": "code",
   "execution_count": 3,
   "id": "79954ff7-d3f3-4f56-99d8-14e9eb20b7b6",
   "metadata": {},
   "outputs": [
    {
     "name": "stdout",
     "output_type": "stream",
     "text": [
      "Prep for test set done\n"
     ]
    }
   ],
   "source": [
    "### Prep for testing data (2 GB RAM used for 300 images + 300 masks)\n",
    "\n",
    "X_test_li = [] ### arrays of augmented images\n",
    "Y_test_li = [] ### arrays of augmented true masks\n",
    "\n",
    "subj_test_li = []\n",
    "fn_test_li = []\n",
    "\n",
    "for imgFn in os.listdir(path+\"test_image_aug\"):\n",
    "    cvImgNorm = cv2.imread(path+\"test_image_aug/\"+imgFn)/255\n",
    "    _, cvTrueMaskNorm = cv2.threshold(cv2.imread(path+\"test_trueMask_aug/\"+imgFn),\n",
    "                             128, 256, cv2.THRESH_BINARY)\n",
    "    cvTrueMaskNorm = tf.cast(tf.image.rgb_to_grayscale(cvTrueMaskNorm)/255, dtype=tf.uint8)\n",
    "    subj = \"_\".join(imgFn.split(\"_\")[:2])\n",
    "    \n",
    "    \n",
    "    X_test_li.append(cvImgNorm)\n",
    "    Y_test_li.append(cvTrueMaskNorm)\n",
    "    subj_test_li.append(subj)\n",
    "    fn_test_li.append(imgFn)\n",
    "\n",
    "X_test = np.array(X_test_li)\n",
    "Y_test = np.array(Y_test_li)\n",
    "print(\"Prep for test set done\")"
   ]
  },
  {
   "cell_type": "code",
   "execution_count": 4,
   "id": "521bff14-0abe-421e-8ae3-345c898cb79a",
   "metadata": {},
   "outputs": [
    {
     "name": "stdout",
     "output_type": "stream",
     "text": [
      "U-Net built with tensorflow.keras\n"
     ]
    }
   ],
   "source": [
    "### Defining U-Net\n",
    "\n",
    "from tensorflow.keras.models import Sequential\n",
    "from tensorflow.keras.layers import Dropout, Activation, Dense\n",
    "from tensorflow.keras.layers import Flatten, Conv2D, MaxPooling2D, Conv2DTranspose, BatchNormalization\n",
    "from tensorflow.keras.models import load_model\n",
    "from tensorflow.keras.optimizers import Adam, RMSprop, SGD\n",
    "\n",
    "def double_conv_block(x, n_filters):\n",
    "    # (Conv2D + ReLU) twice\n",
    "    for i in range(2):\n",
    "        x = Conv2D(filters = n_filters, kernel_size = (3, 3), \n",
    "                   padding = \"same\", activation = \"relu\", \n",
    "                   kernel_initializer = \"he_normal\")(x)\n",
    "    return x\n",
    "    \n",
    "def encoder_block(x, n_filters, dropoutRateGiven):\n",
    "    # double conv block added, then performing down-sampling of the output\n",
    "    \n",
    "    f = double_conv_block(x, n_filters)\n",
    "    p = MaxPooling2D(pool_size=(2, 2))(f)\n",
    "    p = Dropout(dropoutRateGiven)(p)\n",
    "    return f, p\n",
    "\n",
    "def encoder(x, dropoutRateGiven):\n",
    "    # Encoder architecture (downsampling)\n",
    "    \n",
    "    f1, p1 = encoder_block(x, n_filters = 64, dropoutRateGiven = dropoutRateGiven)\n",
    "    f2, p2 = encoder_block(p1, n_filters = 128, dropoutRateGiven = dropoutRateGiven)\n",
    "    f3, p3 = encoder_block(p2, n_filters = 256, dropoutRateGiven = dropoutRateGiven)\n",
    "    f4, p4 = encoder_block(p3, n_filters = 512, dropoutRateGiven = dropoutRateGiven)\n",
    "    return p4, (f1,f2,f3,f4)\n",
    "\n",
    "def bottleneck(x):\n",
    "    # Bottleneck architecture\n",
    "    b = double_conv_block(x, n_filters = 1024)\n",
    "    return b\n",
    "\n",
    "def decoder_block(x, conv_x, n_filters, dropoutRateGiven):\n",
    "    # Decoder architecture (upsampling with Conv2DTranspose + encoder conv output concatenated)\n",
    "    u = Conv2DTranspose(n_filters, kernel_size=(3,3), strides=(2,2),\n",
    "                       padding=\"same\")(x)\n",
    "    c = tf.keras.layers.concatenate([u,conv_x])\n",
    "    c = Dropout(dropoutRateGiven)(c)\n",
    "    c = double_conv_block(c, n_filters)\n",
    "\n",
    "    return c\n",
    "\n",
    "def decoder(x, conv_tuple, dropoutRateGiven):\n",
    "\n",
    "    f1, f2, f3, f4 = conv_tuple\n",
    "\n",
    "    c6 = decoder_block(x, f4, n_filters = 512, dropoutRateGiven = dropoutRateGiven)\n",
    "    c7 = decoder_block(c6, f3, n_filters = 256, dropoutRateGiven = dropoutRateGiven)\n",
    "    c8 = decoder_block(c7, f2, n_filters = 128, dropoutRateGiven = dropoutRateGiven)\n",
    "    c9 = decoder_block(c8, f1, n_filters = 64, dropoutRateGiven = dropoutRateGiven)\n",
    "    \n",
    "    ## Sigmoid activation for binary classification (Background or Foreground)\n",
    "    outputs = Conv2D(1, 1, padding = \"same\", activation = \"sigmoid\")(c9)\n",
    "    \n",
    "    return outputs\n",
    "\n",
    "def createUNet(inputShape, dropoutRateGiven = 0.3):\n",
    "    x = tf.keras.layers.Input(shape=inputShape)\n",
    "\n",
    "    encoder_res, conv_tuple = encoder(x, dropoutRateGiven = dropoutRateGiven)\n",
    "    bottleneck_res = bottleneck(encoder_res)\n",
    "    outputs = decoder(bottleneck_res, conv_tuple, dropoutRateGiven = dropoutRateGiven)\n",
    "\n",
    "    model = tf.keras.Model(x, outputs)\n",
    "\n",
    "    return model\n",
    "    \n",
    "    \n",
    "print(\"U-Net built with tensorflow.keras\")"
   ]
  },
  {
   "cell_type": "code",
   "execution_count": 5,
   "id": "1ee5e77d-e133-47da-aad8-e9bce34a5663",
   "metadata": {},
   "outputs": [
    {
     "name": "stdout",
     "output_type": "stream",
     "text": [
      "U-Net successfully compiled\n"
     ]
    }
   ],
   "source": [
    "### U-Net parameters\n",
    "\n",
    "## Learning part\n",
    "\n",
    "lossFunction = \"binary_crossentropy\" # Binary classification\n",
    "\n",
    "learningRate = 1e-4\n",
    "epochSize = 20\n",
    "batchSize = 8\n",
    "\n",
    "optimizer = \"Adam\"\n",
    "\n",
    "def optimizer_select(optimizer, \n",
    "                     learningRate):\n",
    "    \n",
    "    if optimizer == \"Adam\":\n",
    "        opt = Adam(learning_rate=learningRate)\n",
    "    elif optimizer == \"RMSprop\":\n",
    "        opt = RMSprop(learning_rate=learningRate)\n",
    "    elif optimizer == \"SGD\":\n",
    "        opt = SGD(learning_rate=learningRate)\n",
    "    \n",
    "    return(opt)\n",
    "\n",
    "\n",
    "model = createUNet(inputShape = X_train.shape[1:])\n",
    "\n",
    "model.compile(loss=lossFunction, \n",
    "              optimizer = optimizer_select(optimizer, learningRate),\n",
    "              metrics=['acc'])\n",
    "\n",
    "print(\"U-Net successfully compiled\")"
   ]
  },
  {
   "cell_type": "code",
   "execution_count": 6,
   "id": "e1509bc5-0994-4f89-a3b4-b2d0336ba515",
   "metadata": {},
   "outputs": [
    {
     "name": "stdout",
     "output_type": "stream",
     "text": [
      "Training the model...\n",
      "Epoch 1/20\n"
     ]
    },
    {
     "name": "stderr",
     "output_type": "stream",
     "text": [
      "2023-11-12 17:33:40.329517: E tensorflow/core/grappler/optimizers/meta_optimizer.cc:954] layout failed: INVALID_ARGUMENT: Size of values 0 does not match size of permutation 4 @ fanin shape inmodel/dropout/dropout/SelectV2-2-TransposeNHWCToNCHW-LayoutOptimizer\n",
      "2023-11-12 17:33:40.813061: I tensorflow/compiler/xla/stream_executor/cuda/cuda_dnn.cc:432] Loaded cuDNN version 8903\n",
      "2023-11-12 17:33:42.731461: I tensorflow/compiler/xla/stream_executor/cuda/cuda_blas.cc:606] TensorFloat-32 will be used for the matrix multiplication. This will only be logged once.\n",
      "2023-11-12 17:33:42.746754: I tensorflow/compiler/xla/service/service.cc:168] XLA service 0x7f23938064d0 initialized for platform CUDA (this does not guarantee that XLA will be used). Devices:\n",
      "2023-11-12 17:33:42.746777: I tensorflow/compiler/xla/service/service.cc:176]   StreamExecutor device (0): NVIDIA A10G, Compute Capability 8.6\n",
      "2023-11-12 17:33:42.750877: I tensorflow/compiler/mlir/tensorflow/utils/dump_mlir_util.cc:255] disabling MLIR crash reproducer, set env var `MLIR_CRASH_REPRODUCER_DIRECTORY` to enable.\n",
      "2023-11-12 17:33:42.856828: I ./tensorflow/compiler/jit/device_compiler.h:186] Compiled cluster using XLA!  This line is logged at most once for the lifetime of the process.\n"
     ]
    },
    {
     "name": "stdout",
     "output_type": "stream",
     "text": [
      "175/175 [==============================] - 74s 333ms/step - loss: 0.3013 - acc: 0.8662 - val_loss: 0.3786 - val_acc: 0.8146\n",
      "Epoch 2/20\n",
      "175/175 [==============================] - 56s 321ms/step - loss: 0.1769 - acc: 0.9235 - val_loss: 0.2025 - val_acc: 0.9256\n",
      "Epoch 3/20\n",
      "175/175 [==============================] - 56s 321ms/step - loss: 0.1433 - acc: 0.9385 - val_loss: 0.1455 - val_acc: 0.9373\n",
      "Epoch 4/20\n",
      "175/175 [==============================] - 56s 320ms/step - loss: 0.1159 - acc: 0.9500 - val_loss: 0.1338 - val_acc: 0.9433\n",
      "Epoch 5/20\n",
      "175/175 [==============================] - 56s 320ms/step - loss: 0.0931 - acc: 0.9596 - val_loss: 0.0932 - val_acc: 0.9612\n",
      "Epoch 6/20\n",
      "175/175 [==============================] - 56s 320ms/step - loss: 0.0812 - acc: 0.9648 - val_loss: 0.0905 - val_acc: 0.9627\n",
      "Epoch 7/20\n",
      "175/175 [==============================] - 56s 319ms/step - loss: 0.0721 - acc: 0.9686 - val_loss: 0.0792 - val_acc: 0.9671\n",
      "Epoch 8/20\n",
      "175/175 [==============================] - 56s 320ms/step - loss: 0.0638 - acc: 0.9721 - val_loss: 0.0784 - val_acc: 0.9667\n",
      "Epoch 9/20\n",
      "175/175 [==============================] - 56s 319ms/step - loss: 0.0591 - acc: 0.9741 - val_loss: 0.0756 - val_acc: 0.9680\n",
      "Epoch 10/20\n",
      "175/175 [==============================] - 56s 319ms/step - loss: 0.0544 - acc: 0.9762 - val_loss: 0.0744 - val_acc: 0.9687\n",
      "Epoch 11/20\n",
      "175/175 [==============================] - 56s 319ms/step - loss: 0.0507 - acc: 0.9779 - val_loss: 0.0726 - val_acc: 0.9694\n",
      "Epoch 12/20\n",
      "175/175 [==============================] - 56s 319ms/step - loss: 0.0470 - acc: 0.9796 - val_loss: 0.0791 - val_acc: 0.9677\n",
      "Epoch 13/20\n",
      "175/175 [==============================] - 56s 318ms/step - loss: 0.0598 - acc: 0.9749 - val_loss: 0.0737 - val_acc: 0.9699\n",
      "Epoch 14/20\n",
      "175/175 [==============================] - 56s 319ms/step - loss: 0.0437 - acc: 0.9811 - val_loss: 0.0785 - val_acc: 0.9691\n",
      "Epoch 15/20\n",
      "175/175 [==============================] - 56s 319ms/step - loss: 0.0408 - acc: 0.9824 - val_loss: 0.0789 - val_acc: 0.9692\n",
      "Epoch 16/20\n",
      "175/175 [==============================] - 56s 319ms/step - loss: 0.0385 - acc: 0.9834 - val_loss: 0.0821 - val_acc: 0.9690\n",
      "Epoch 17/20\n",
      "175/175 [==============================] - 56s 319ms/step - loss: 0.0366 - acc: 0.9842 - val_loss: 0.0843 - val_acc: 0.9697\n",
      "Epoch 18/20\n",
      "175/175 [==============================] - 56s 319ms/step - loss: 0.0347 - acc: 0.9850 - val_loss: 0.0866 - val_acc: 0.9691\n",
      "Epoch 19/20\n",
      "175/175 [==============================] - 56s 319ms/step - loss: 0.0333 - acc: 0.9857 - val_loss: 0.0854 - val_acc: 0.9698\n",
      "Epoch 20/20\n",
      "175/175 [==============================] - 56s 319ms/step - loss: 0.0319 - acc: 0.9862 - val_loss: 0.0889 - val_acc: 0.9699\n"
     ]
    }
   ],
   "source": [
    "### Training the U-Net model\n",
    "\n",
    "print(\"Training the U-Net model...\")\n",
    "\n",
    "modelHistory = model.fit(x=X_train, y=Y_train,\n",
    "                    validation_data = (X_test, Y_test),\n",
    "    epochs=epochSize, batch_size=batchSize, verbose = 1)\n"
   ]
  },
  {
   "cell_type": "code",
   "execution_count": 7,
   "id": "ad5158ba-6d30-4276-a21b-85f42ef130c5",
   "metadata": {},
   "outputs": [
    {
     "name": "stdout",
     "output_type": "stream",
     "text": [
      "Model fully trained and saved\n"
     ]
    }
   ],
   "source": [
    "### Saving the model\n",
    "\n",
    "import datetime\n",
    "import pickle\n",
    "\n",
    "lossFxShort = \"\".join([x[0] for x in lossFunction.split(\"_\")])\n",
    "modelTime = (datetime.datetime.now() + datetime.timedelta(hours=9)).strftime('%m%d_%H%M')\n",
    "\n",
    "modelName = path+\"model/unet.lr_{0}.optimizer_{1}.epoch_{2}.batch_{3}.\\\n",
    "time_{4}.keras\".format(learningRate,optimizer,epochSize,batchSize,modelTime)\n",
    "\n",
    "model.save(modelName)\n",
    "\n",
    "print(\"Model fully trained and saved\")"
   ]
  },
  {
   "cell_type": "code",
   "execution_count": 11,
   "id": "e1e7e741-746a-4e6f-8841-71d573ac2a31",
   "metadata": {},
   "outputs": [
    {
     "data": {
      "image/png": "[encoded data removed]",
      "text/plain": [
       "<Figure size 640x480 with 1 Axes>"
      ]
     },
     "metadata": {},
     "output_type": "display_data"
    }
   ],
   "source": [
    "### U-Net learning curve\n",
    "\n",
    "from matplotlib import pyplot as plt\n",
    "\n",
    "ylimLoss = 0.5\n",
    "\n",
    "plt.plot(modelHistory.history['loss'], label = \"Training set\")\n",
    "plt.plot(modelHistory.history['val_loss'], label = \"Validation set\")\n",
    "plt.xlabel('epoch')\n",
    "plt.ylabel('loss')\n",
    "\n",
    "plt.xticks(np.arange(0,epochSize, 5))\n",
    "plt.yticks(np.arange(0,ylimLoss, 0.05))\n",
    "plt.ylim(bottom=0, top=ylimLoss)\n",
    "plt.legend()\n",
    "\n",
    "plt.show()"
   ]
  },
  {
   "cell_type": "code",
   "execution_count": 57,
   "id": "7fc58e7a-50ba-4f1d-8257-707416b4fb85",
   "metadata": {},
   "outputs": [
    {
     "name": "stdout",
     "output_type": "stream",
     "text": [
      "10/10 [==============================] - 4s 484ms/step\n",
      "Predicted masked were all saved\n"
     ]
    }
   ],
   "source": [
    "### Saving probabilty masks and binarized masks\n",
    "\n",
    "## Training data\n",
    "train_predMask = model.predict(X_train)\n",
    "\n",
    "for num in range(train_predMask.shape[0]):\n",
    "    predMaskHighDim = train_predMask[num]\n",
    "    fileName = fn_train_li[num]\n",
    "    d1,d2,d3 = predMaskHighDim.shape\n",
    "    predMask = predMaskHighDim.reshape(1,d1,d2,d3)[0,...]\n",
    "    _, predMask_bin = cv2.threshold(predMask,0.5,1,cv2.THRESH_BINARY)   ## Probability to binary values (0.05, 0.61, 0.97) -> (0, 1, 1)\n",
    "    predMask_bin = predMask_bin.reshape(d1,d2,d3)\n",
    "        \n",
    "    save_img(path+\"train_predMask/{0}\".format(fileName),\n",
    "             predMask, file_format=\"jpeg\")\n",
    "    save_img(path+\"train_predMask_bin/{0}\".format(fileName),\n",
    "             predMask_bin, file_format=\"jpeg\")\n",
    "\n",
    "\n",
    "# Test data\n",
    "test_predMask = model.predict(X_test)\n",
    "\n",
    "for num in range(test_predMask.shape[0]):\n",
    "    predMaskHighDim = test_predMask[num]\n",
    "    fileName = fn_test_li[num]\n",
    "    d1,d2,d3 = predMaskHighDim.shape\n",
    "    predMask = predMaskHighDim.reshape(1,d1,d2,d3)[0,...]\n",
    "    _, predMask_bin = cv2.threshold(predMask,0.5,1,cv2.THRESH_BINARY)   ## Probability to binary values (0.05, 0.61, 0.97) -> (0, 1, 1)\n",
    "    predMask_bin = predMask_bin.reshape(d1,d2,d3)\n",
    "        \n",
    "    save_img(path+\"test_predMask/{0}\".format(fileName),\n",
    "             predMask, file_format=\"jpeg\")\n",
    "    save_img(path+\"test_predMask_bin/{0}\".format(fileName),\n",
    "             predMask_bin, file_format=\"jpeg\")\n",
    "\n",
    "print(\"Predicted masked were all saved\")"
   ]
  }
 ],
 "metadata": {
  "kernelspec": {
   "display_name": "Python 3 (ipykernel)",
   "language": "python",
   "name": "python3"
  },
  "language_info": {
   "codemirror_mode": {
    "name": "ipython",
    "version": 3
   },
   "file_extension": ".py",
   "mimetype": "text/x-python",
   "name": "python",
   "nbconvert_exporter": "python",
   "pygments_lexer": "ipython3",
   "version": "3.10.12"
  }
 },
 "nbformat": 4,
 "nbformat_minor": 5
}
